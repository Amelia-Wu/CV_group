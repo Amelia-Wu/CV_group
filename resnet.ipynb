{
 "cells": [
  {
   "cell_type": "code",
   "execution_count": 1,
   "id": "initial_id",
   "metadata": {
    "ExecuteTime": {
     "end_time": "2023-09-30T09:42:55.946885Z",
     "start_time": "2023-09-30T09:42:53.044183Z"
    }
   },
   "outputs": [],
   "source": [
    "from resNet import *\n",
    "import pandas as pd"
   ]
  },
  {
   "cell_type": "code",
   "execution_count": 2,
   "id": "1bc9862e00a318e3",
   "metadata": {
    "ExecuteTime": {
     "end_time": "2023-09-30T09:42:56.615647Z",
     "start_time": "2023-09-30T09:42:55.948017Z"
    }
   },
   "outputs": [],
   "source": [
    "model = FineTunedModel()\n",
    "generated_data_path = './utils/dataset_generated.csv'\n",
    "x_train, x_val, y_train, y_val = model.split_data(0.7, generated_data_path)"
   ]
  },
  {
   "cell_type": "code",
   "execution_count": 2,
   "outputs": [],
   "source": [],
   "metadata": {
    "collapsed": false
   }
  },
  {
   "cell_type": "code",
   "execution_count": null,
   "outputs": [
    {
     "name": "stdout",
     "output_type": "stream",
     "text": [
      "Epoch 1/20\n",
      "21/21 [==============================] - 289s 14s/step - loss: 0.7108 - recall: 0.2044 - val_loss: 0.6516 - val_recall: 0.0349\n",
      "Epoch 2/20\n",
      "21/21 [==============================] - 298s 14s/step - loss: 0.6015 - recall: 0.1708 - val_loss: 0.6393 - val_recall: 0.2159\n",
      "Epoch 3/20\n",
      "21/21 [==============================] - 316s 15s/step - loss: 0.5771 - recall: 0.2723 - val_loss: 0.6371 - val_recall: 0.1571\n",
      "Epoch 4/20\n",
      " 7/21 [=========>....................] - ETA: 2:47 - loss: 0.5340 - recall: 0.1914"
     ]
    }
   ],
   "source": [
    "model.train(x_train, y_train, x_val, y_val)"
   ],
   "metadata": {
    "collapsed": false,
    "ExecuteTime": {
     "end_time": "2023-09-30T09:43:28.212369Z",
     "start_time": "2023-09-30T09:42:56.619261Z"
    },
    "pycharm": {
     "is_executing": true
    }
   },
   "id": "553196cae2fa91b0"
  },
  {
   "cell_type": "code",
   "execution_count": null,
   "id": "f2d2dc646701d20",
   "metadata": {
    "ExecuteTime": {
     "end_time": "2023-09-30T09:43:28.739201Z",
     "start_time": "2023-09-30T09:43:28.213756Z"
    },
    "pycharm": {
     "is_executing": true
    }
   },
   "outputs": [],
   "source": [
    "# use the best model to evaluate\n",
    "model.load_model('best_model.h5')\n",
    "_, _, x_test, y_test = model.split_data(1, \"./utils/test_accuracy_generated.csv\")\n",
    "model.evaluate(x_test, y_test)"
   ]
  },
  {
   "cell_type": "code",
   "execution_count": null,
   "outputs": [],
   "source": [
    "# top-2 accuracy evaluation\n",
    "from utils.evaluations import *\n",
    "model.load_model('best_model.h5')\n",
    "output_path = './outputFile/temp_resnet_test_accuracy_output.csv'\n",
    "test_candidates_data = pd.read_csv('./dataset/test_accuracy2.csv')\n",
    "model.predict(test_candidates_data, output_path, './dataset/train/left/', './dataset/train/right/')"
   ],
   "metadata": {
    "collapsed": false,
    "pycharm": {
     "is_executing": true
    }
   }
  },
  {
   "cell_type": "code",
   "execution_count": null,
   "outputs": [],
   "source": [
    "# top-2 accuracy evaluation\n",
    "from utils.evaluations import *\n",
    "file_to_evaluation = './outputFile/temp_resnet_test_accuracy_output.csv'\n",
    "lookup_table = './dataset/test_accuracy.csv'\n",
    "ground_truth_table = './dataset/train.csv'\n",
    "evaluate(file_to_evaluation, lookup_table, ground_truth_table, \"./outputFile/temp_test_evaluation.csv\")"
   ],
   "metadata": {
    "collapsed": false,
    "pycharm": {
     "is_executing": true
    }
   }
  },
  {
   "cell_type": "code",
   "execution_count": null,
   "outputs": [],
   "source": [
    "output_path = './outputFile/test_resnet_submission.csv'\n",
    "test_candidates_data = pd.read_csv('./dataset/test_candidates.csv')\n",
    "\n",
    "model.predict(test_candidates_data, output_path, './dataset/test/left/', './dataset/test/right/')"
   ],
   "metadata": {
    "collapsed": false,
    "ExecuteTime": {
     "end_time": "2023-09-30T09:43:40.229686Z",
     "start_time": "2023-09-30T09:43:28.734898Z"
    },
    "pycharm": {
     "is_executing": true
    }
   },
   "id": "f2e24e66ca11150"
  },
  {
   "cell_type": "code",
   "execution_count": null,
   "outputs": [],
   "source": [],
   "metadata": {
    "collapsed": false,
    "pycharm": {
     "is_executing": true
    }
   }
  }
 ],
 "metadata": {
  "kernelspec": {
   "display_name": "Python 3 (ipykernel)",
   "language": "python",
   "name": "python3"
  },
  "language_info": {
   "codemirror_mode": {
    "name": "ipython",
    "version": 3
   },
   "file_extension": ".py",
   "mimetype": "text/x-python",
   "name": "python",
   "nbconvert_exporter": "python",
   "pygments_lexer": "ipython3",
   "version": "3.11.4"
  }
 },
 "nbformat": 4,
 "nbformat_minor": 5
}
